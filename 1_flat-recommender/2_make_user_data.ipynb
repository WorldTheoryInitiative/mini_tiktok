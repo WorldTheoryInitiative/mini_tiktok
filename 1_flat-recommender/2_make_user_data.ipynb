{
 "cells": [
  {
   "cell_type": "markdown",
   "id": "0262ef49",
   "metadata": {},
   "source": [
    "i dont have any data so need to make my own!"
   ]
  },
  {
   "cell_type": "code",
   "execution_count": 11,
   "id": "18bcfb5d",
   "metadata": {},
   "outputs": [
    {
     "name": "stdout",
     "output_type": "stream",
     "text": [
      "   user_id  video_id  likes\n",
      "0       44       619      5\n",
      "1      386       829      5\n",
      "2      327       640      1\n",
      "3      219       594      2\n",
      "4      216       467      6\n"
     ]
    }
   ],
   "source": [
    "# random interactions\n",
    "import numpy as np, pandas as pd\n",
    "\n",
    "n_users   = 500\n",
    "n_videos  = 1_000\n",
    "n_events  = 6_000         \n",
    "\n",
    "rng = np.random.default_rng(42)\n",
    "\n",
    "interactions = pd.DataFrame({\n",
    "    \"user_id\" : rng.integers(0, n_users,  n_events),\n",
    "    \"video_id\": rng.integers(0, n_videos, n_events),\n",
    "    \"likes\"   : rng.integers(1, 10,       n_events)   # weight 1–9\n",
    "})\n",
    "\n",
    "print(interactions[:5])"
   ]
  },
  {
   "cell_type": "code",
   "execution_count": null,
   "id": "f963ca69",
   "metadata": {},
   "outputs": [
    {
     "name": "stdout",
     "output_type": "stream",
     "text": [
      "(1000, 2348)\n"
     ]
    }
   ],
   "source": [
    "# 3) load the actual 1k video vectors\n",
    "video_vecs = np.load(\"output/videos.npy\")        # shape (1000, 5128)\n",
    "\n",
    "print(video_vecs.shape)        # should be (1000, 5128)\n"
   ]
  },
  {
   "cell_type": "code",
   "execution_count": null,
   "id": "83958713",
   "metadata": {},
   "outputs": [
    {
     "name": "stdout",
     "output_type": "stream",
     "text": [
      "[[ 0.          0.          0.         ... -0.02604912 -0.01908159\n",
      "   0.02118554]\n",
      " [ 0.          0.          0.         ... -0.02342878 -0.01793193\n",
      "   0.02188703]\n",
      " [ 0.          0.          0.         ... -0.02643197 -0.0214548\n",
      "   0.02315622]\n",
      " [ 0.07450291  0.          0.         ... -0.02637375 -0.02079907\n",
      "   0.0213614 ]\n",
      " [ 0.          0.          0.         ... -0.03029886 -0.02247988\n",
      "   0.02567782]]\n"
     ]
    },
    {
     "name": "stderr",
     "output_type": "stream",
     "text": [
      "C:\\Users\\minec\\AppData\\Local\\Temp\\ipykernel_18000\\941662854.py:8: FutureWarning: DataFrameGroupBy.apply operated on the grouping columns. This behavior is deprecated, and in a future version of pandas the grouping columns will be excluded from the operation. Either pass `include_groups=False` to exclude the groupings or explicitly select the grouping columns after groupby to silence this warning.\n",
      "  .apply(lambda g: np.average(np.vstack(g[\"vec\"]),\n"
     ]
    }
   ],
   "source": [
    "# 4) build user vectors – code unchanged except for variable sizes\n",
    "user_vecs = (\n",
    "    interactions\n",
    "      .assign(weight=interactions[\"likes\"])\n",
    "      .merge(pd.DataFrame({\"video_id\": np.arange(n_videos),\n",
    "                           \"vec\": list(video_vecs)}), on=\"video_id\")\n",
    "      .groupby(\"user_id\")\n",
    "      .apply(lambda g: np.average(np.vstack(g[\"vec\"]),\n",
    "                                  weights=g[\"weight\"], axis=0))\n",
    ")\n",
    "\n",
    "# 5) pad any missing users (some may have zero interactions)\n",
    "user_matrix = np.zeros((n_users, 2348), dtype=np.float32)\n",
    "for uid, vec in user_vecs.items():\n",
    "    user_matrix[uid] = vec\n",
    "\n",
    "# 6) save – shape is now (n_users, 5128), e.g. (500, 5128)\n",
    "np.save(\"output/users.npy\", user_matrix)\n"
   ]
  }
 ],
 "metadata": {
  "kernelspec": {
   "display_name": ".venv",
   "language": "python",
   "name": "python3"
  },
  "language_info": {
   "codemirror_mode": {
    "name": "ipython",
    "version": 3
   },
   "file_extension": ".py",
   "mimetype": "text/x-python",
   "name": "python",
   "nbconvert_exporter": "python",
   "pygments_lexer": "ipython3",
   "version": "3.12.10"
  }
 },
 "nbformat": 4,
 "nbformat_minor": 5
}
