{
 "cells": [
  {
   "cell_type": "markdown",
   "id": "153ae4c0",
   "metadata": {},
   "source": [
    "# imports"
   ]
  },
  {
   "cell_type": "code",
   "execution_count": 38,
   "id": "c3c561f7",
   "metadata": {},
   "outputs": [],
   "source": [
    "import pandas as pd\n",
    "import json\n",
    "from sklearn.feature_extraction.text import TfidfVectorizer"
   ]
  },
  {
   "cell_type": "code",
   "execution_count": 39,
   "id": "1ec94928",
   "metadata": {},
   "outputs": [
    {
     "name": "stdout",
     "output_type": "stream",
     "text": [
      "                    id                                               text  \\\n",
      "0  6907228749016714497                                  Confidence went 📈   \n",
      "1  6875468410612993286  Quiet Zone... follow me on insta: joeysofo. Co...   \n",
      "2  6898699405898059010  Iphone bend test🤗 #tiktok #viral #fyp #iphone ...   \n",
      "3  6902819837345533186                                                      \n",
      "4  6905635666588192002                           小技です👟✨#tiktok教室#tutorial   \n",
      "\n",
      "   createTime                                        webVideoUrl  \\\n",
      "0  1608214517  https://www.tiktok.com/@ninakleij/video/690722...   \n",
      "1  1600819763  https://www.tiktok.com/@joeysofo/video/6875468...   \n",
      "2  1606228625  https://www.tiktok.com/@jackeyephone/video/689...   \n",
      "3  1607187987  https://www.tiktok.com/@naomivaneeren/video/69...   \n",
      "4  1607843600  https://www.tiktok.com/@io.dreamer_mk/video/69...   \n",
      "\n",
      "                                            videoUrl videoUrlNoWaterMark  \\\n",
      "0  https://v77.tiktokcdn.com/ed1f811617d7b5e18b8d...                       \n",
      "1  https://v77.tiktokcdn.com/ab935f1975cb8b69aebf...                       \n",
      "2  https://v21.tiktokcdn.com/video/tos/alisg/tos-...                       \n",
      "3  https://v21.tiktokcdn.com/video/tos/alisg/tos-...                       \n",
      "4  https://v77.tiktokcdn.com/7622979a5ceb97c6da4e...                       \n",
      "\n",
      "   diggCount  shareCount  playCount  commentCount  downloaded  \\\n",
      "0       3710          50      44800            68        True   \n",
      "1      55700        1817     838100           936        True   \n",
      "2     936200       21100   15300000         27100        True   \n",
      "3      12900         197      94900           143        True   \n",
      "4       8805         198     115300            52        True   \n",
      "\n",
      "             mentions                                           hashtags  \\\n",
      "0                  []                                                 []   \n",
      "1  [@dwight_schnuute]                                                 []   \n",
      "2                  []  [{'id': '23428', 'name': 'tiktok', 'title': ''...   \n",
      "3                  []                                                 []   \n",
      "4                  []  [{'id': '1627704798586882', 'name': 'tiktok教室'...   \n",
      "\n",
      "         authorMeta.id                                  authorMeta.secUid  \\\n",
      "0  6825540583826768902  MS4wLjABAAAA1FfFjRMUzr0hX2YPT7pRr7bCPQWa-kU_kV...   \n",
      "1  6729292817489986566  MS4wLjABAAAAvkCSTiPWJm7Ctqp7AN3mauS_Bi8tVrbtBg...   \n",
      "2  6791901371429913601  MS4wLjABAAAAsI8XQOceYtnIhIbLZLhvz24tOWdWYavlPe...   \n",
      "3  6574079584262094854  MS4wLjABAAAAPfdkn_2Eu2__LdAOUeGO8z3mYALisMlAo3...   \n",
      "4  6586854399372394498  MS4wLjABAAAAqwdQMoXzQWa8Zg8uIlLjIzNDK9dJ_0hiNK...   \n",
      "\n",
      "  authorMeta.name authorMeta.nickName  authorMeta.verified  \\\n",
      "0       ninakleij                Nina                False   \n",
      "1        joeysofo           JoeySofo                 False   \n",
      "2    jackeyephone           JackJacko                False   \n",
      "3   naomivaneeren   Naomi van eeren ✨                False   \n",
      "4   io.dreamer_mk         io. Dreamer                False   \n",
      "\n",
      "                                authorMeta.signature  \\\n",
      "0            don’t tell my instagram I’m here\\n19 👸🏼   \n",
      "1  Tinder couldn’t help me lose my virginity so I...   \n",
      "2  Zakelijk 📩 jackeyephone@gmail.com\\nInstagram: ...   \n",
      "3                                       Just for fun   \n",
      "4  Dance tutorial🌏🤍\\n動画レクチャー/教室はインスタにDMを YouTube→...   \n",
      "\n",
      "                                   authorMeta.avatar    musicMeta.musicId  \\\n",
      "0  https://p16-sign-sg.tiktokcdn.com/aweme/1080x1...  6790057285814061057   \n",
      "1  https://p16-sign-va.tiktokcdn.com/musically-ma...  6678927595137977094   \n",
      "2  https://p16-sign-sg.tiktokcdn.com/aweme/1080x1...  6881287666340481026   \n",
      "3  https://p16-sign-sg.tiktokcdn.com/aweme/1080x1...  6881107586830076678   \n",
      "4  https://p16-sign-sg.tiktokcdn.com/aweme/1080x1...  6649693417590754053   \n",
      "\n",
      "           musicMeta.musicName musicMeta.musicAuthor  musicMeta.musicOriginal  \\\n",
      "0                      Element             Pop Smoke                    False   \n",
      "1                   Without Me           rapidsongs                      True   \n",
      "2      Pilfingerdansen - Remix        Sigurd Barrett                    False   \n",
      "3  Justin Timberlake - Mirrors                  Noah                     True   \n",
      "4                           原聲                Mj.无名氏                     True   \n",
      "\n",
      "                                   musicMeta.playUrl  \\\n",
      "0  https://sf16-sg.tiktokcdn.com/obj/tos-alisg-v-...   \n",
      "1  https://sf77-sg.tiktokcdn.com/obj/musically-ma...   \n",
      "2  https://sf16-sg.tiktokcdn.com/obj/tos-alisg-v-...   \n",
      "3  https://sf16-sg.tiktokcdn.com/obj/musically-ma...   \n",
      "4  https://sf77-sg.tiktokcdn.com/obj/musically-ma...   \n",
      "\n",
      "                                musicMeta.coverThumb  \\\n",
      "0  https://p77-sg.tiktokcdn.com/aweme/100x100/tos...   \n",
      "1  https://p16-sign-sg.tiktokcdn.com/musically-ma...   \n",
      "2  https://p77-sg.tiktokcdn.com/aweme/100x100/tos...   \n",
      "3  https://p16-sign-va.tiktokcdn.com/musically-ma...   \n",
      "4  https://p16-sign-sg.tiktokcdn.com/musically-ma...   \n",
      "\n",
      "                               musicMeta.coverMedium  \\\n",
      "0  https://p77-sg.tiktokcdn.com/aweme/200x200/tos...   \n",
      "1  https://p77-sign-sg.tiktokcdn.com/musically-ma...   \n",
      "2  https://p77-sg.tiktokcdn.com/aweme/200x200/tos...   \n",
      "3  https://p16-sign-va.tiktokcdn.com/musically-ma...   \n",
      "4  https://p16-sign-sg.tiktokcdn.com/musically-ma...   \n",
      "\n",
      "                                musicMeta.coverLarge  \\\n",
      "0  https://p77-sg.tiktokcdn.com/aweme/720x720/tos...   \n",
      "1  https://p77-sign-sg.tiktokcdn.com/musically-ma...   \n",
      "2  https://p77-sg.tiktokcdn.com/aweme/720x720/tos...   \n",
      "3  https://p16-sign-va.tiktokcdn.com/musically-ma...   \n",
      "4  https://p16-sign-sg.tiktokcdn.com/musically-ma...   \n",
      "\n",
      "                                      covers.default  \\\n",
      "0  https://p16-sign-sg.tiktokcdn.com/obj/tos-alis...   \n",
      "1  https://p16-sign-sg.tiktokcdn.com/obj/tos-mali...   \n",
      "2  https://p16-sign-sg.tiktokcdn.com/obj/tos-alis...   \n",
      "3  https://p16-sign-sg.tiktokcdn.com/obj/tos-alis...   \n",
      "4  https://p16-sign-sg.tiktokcdn.com/obj/tos-alis...   \n",
      "\n",
      "                                       covers.origin  \\\n",
      "0  https://p16-sign-sg.tiktokcdn.com/obj/tos-alis...   \n",
      "1  https://p16-sign-sg.tiktokcdn.com/obj/tos-mali...   \n",
      "2  https://p16-sign-sg.tiktokcdn.com/obj/tos-alis...   \n",
      "3  https://p16-sign-sg.tiktokcdn.com/obj/tos-alis...   \n",
      "4  https://p16-sign-sg.tiktokcdn.com/obj/tos-alis...   \n",
      "\n",
      "                                      covers.dynamic  videoMeta.height  \\\n",
      "0  https://p16-sign-sg.tiktokcdn.com/obj/tos-alis...              1024   \n",
      "1  https://p16-sign-sg.tiktokcdn.com/obj/tos-mali...              1024   \n",
      "2  https://p16-sign-sg.tiktokcdn.com/obj/tos-alis...               960   \n",
      "3  https://p16-sign-sg.tiktokcdn.com/obj/tos-alis...              1024   \n",
      "4  https://p16-sign-sg.tiktokcdn.com/obj/tos-alis...              1024   \n",
      "\n",
      "   videoMeta.width  videoMeta.duration  \n",
      "0              576                  15  \n",
      "1              576                  11  \n",
      "2              540                  19  \n",
      "3              576                  13  \n",
      "4              576                  22  \n"
     ]
    }
   ],
   "source": [
    "#load data\n",
    "with open(\"data/trending_videos.json\", \"r\", encoding=\"utf-8\") as f:\n",
    "    payload = json.load(f)\n",
    "\n",
    "df = pd.json_normalize(payload[\"collector\"])\n",
    "pd.set_option('display.max_columns', None)\n",
    "\n",
    "print(df.head())\n"
   ]
  },
  {
   "cell_type": "code",
   "execution_count": 62,
   "id": "34561f58",
   "metadata": {},
   "outputs": [
    {
     "name": "stdout",
     "output_type": "stream",
     "text": [
      "0                                                       \n",
      "1                                                       \n",
      "2                #tiktok #viral #fyp #iphone #test #bend\n",
      "3                                                       \n",
      "4                                    #tiktok教室 #tutorial\n",
      "                             ...                        \n",
      "995                                  #foryou #foryoupage\n",
      "996    #gttfg #gotothegym #swolefam #nutrition #diet ...\n",
      "997                              #fy #foryoupage #foryou\n",
      "998                                  #fyp #foryou #curls\n",
      "999    #horserider #horsegirl #equestrian #equestrian...\n",
      "Name: hashtags_str, Length: 1000, dtype: object\n"
     ]
    }
   ],
   "source": [
    "# fix garbage hashtag list from json\n",
    "def flatten_hashtags(tag_list):\n",
    "    if not tag_list:\n",
    "        return \"\"\n",
    "    return \" \".join(f\"#{d['name']}\" for d in tag_list)\n",
    "\n",
    "df[\"hashtags_str\"] = df[\"hashtags\"].apply(flatten_hashtags)\n",
    "\n",
    "print(df['hashtags_str'])"
   ]
  },
  {
   "cell_type": "code",
   "execution_count": 63,
   "id": "57a80bd5",
   "metadata": {},
   "outputs": [
    {
     "name": "stdout",
     "output_type": "stream",
     "text": [
      "(1000, 2220)\n"
     ]
    }
   ],
   "source": [
    "# make matrix of hashtag TF-IDF score. each row = one video, \n",
    "\n",
    "\n",
    "def hashtag_tokenizer(text):\n",
    "    return text.split()\n",
    "\n",
    "vectorizer = TfidfVectorizer(\n",
    "    tokenizer=hashtag_tokenizer,\n",
    "    lowercase=False,\n",
    "    max_features=5000,\n",
    "    token_pattern=None\n",
    ")\n",
    "\n",
    "tfidf_matrix = vectorizer.fit_transform(df[\"hashtags_str\"])\n",
    "\n",
    "print(tfidf_matrix.shape)"
   ]
  },
  {
   "cell_type": "code",
   "execution_count": 64,
   "id": "89309dc4",
   "metadata": {},
   "outputs": [
    {
     "name": "stdout",
     "output_type": "stream",
     "text": [
      "[['Confidence', 'went', '📈'], ['Quiet', 'Zone...', 'follow', 'me', 'on', 'insta:', 'joeysofo.', 'Comment', 'where', 'you', 'wanna', 'see', 'me', 'blade', 'next.', 'Reply', 'to', '@dwight_schnuute'], ['Iphone', 'bend', 'test🤗', '#tiktok', '#viral', '#fyp', '#iphone', '#test', '#bend'], [], ['小技です👟✨#tiktok教室#tutorial']]\n"
     ]
    }
   ],
   "source": [
    "# split sentences for each video to prepare to vectorize\n",
    "sentences = df['text'].astype(str).fillna(\"\").str.split().tolist()\n",
    "\n",
    "print(sentences[:5])"
   ]
  },
  {
   "cell_type": "code",
   "execution_count": 65,
   "id": "a44e64f5",
   "metadata": {},
   "outputs": [],
   "source": [
    "# train model\n",
    "from gensim.models import Word2Vec\n",
    "\n",
    "w2v = Word2Vec(\n",
    "    sentences=sentences,\n",
    "    vector_size=128,   # 128-D\n",
    "    window=5,\n",
    "    min_count=2,       # ignore very rare words\n",
    "    sg=1,              # skip-gram\n",
    "    epochs=5,\n",
    "    workers=4\n",
    ")"
   ]
  },
  {
   "cell_type": "code",
   "execution_count": 66,
   "id": "138fabaa",
   "metadata": {},
   "outputs": [
    {
     "name": "stdout",
     "output_type": "stream",
     "text": [
      "(1000, 128)\n"
     ]
    }
   ],
   "source": [
    "# description into a vector\n",
    "\n",
    "import numpy as np\n",
    "\n",
    "def sent_vec(words):\n",
    "    # look up the numeric vector that Word2Vec learned for every word in this description and collect them into a list\n",
    "    vecs = [w2v.wv[w] for w in words if w in w2v.wv]\n",
    "    return np.mean(vecs, axis=0) if vecs else np.zeros(128)\n",
    "\n",
    "# stack arrays\n",
    "desc_vecs = np.vstack([sent_vec(s) for s in sentences])   # shape (100 000, 128)\n",
    "\n",
    "\n",
    "print(desc_vecs.shape)      \n"
   ]
  },
  {
   "cell_type": "code",
   "execution_count": 69,
   "id": "5b928a17",
   "metadata": {},
   "outputs": [
    {
     "name": "stdout",
     "output_type": "stream",
     "text": [
      "(1000, 2348)\n"
     ]
    }
   ],
   "source": [
    "# Concatenate the two matrices\n",
    "from scipy.sparse import hstack\n",
    "\n",
    "tfidf_sparse = tfidf_matrix.astype(float)  # ensure compatible dtype\n",
    "combined = hstack([tfidf_sparse, desc_vecs]).tocsr()  # still sparse\n",
    "\n",
    "print(combined.shape)        # should be (1000, 5128)\n"
   ]
  },
  {
   "cell_type": "code",
   "execution_count": 71,
   "id": "c9cb4444",
   "metadata": {},
   "outputs": [],
   "source": [
    "np.save(\"output/videos.npy\", combined.astype(np.float32).toarray())"
   ]
  }
 ],
 "metadata": {
  "kernelspec": {
   "display_name": ".venv",
   "language": "python",
   "name": "python3"
  },
  "language_info": {
   "codemirror_mode": {
    "name": "ipython",
    "version": 3
   },
   "file_extension": ".py",
   "mimetype": "text/x-python",
   "name": "python",
   "nbconvert_exporter": "python",
   "pygments_lexer": "ipython3",
   "version": "3.12.10"
  }
 },
 "nbformat": 4,
 "nbformat_minor": 5
}
