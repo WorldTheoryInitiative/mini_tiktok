{
 "cells": [
  {
   "cell_type": "code",
   "execution_count": 17,
   "id": "9c09e33f",
   "metadata": {},
   "outputs": [],
   "source": [
    "import pandas as pd\n",
    "import numpy as np"
   ]
  },
  {
   "cell_type": "code",
   "execution_count": 12,
   "id": "c70db2f2",
   "metadata": {},
   "outputs": [
    {
     "name": "stdout",
     "output_type": "stream",
     "text": [
      "   user_id  video_id  likes\n",
      "0       44       645      9\n",
      "1      386       716      6\n",
      "2      327       267      1\n",
      "3      219       357      9\n"
     ]
    }
   ],
   "source": [
    "# import data\n",
    "interactions = pd.read_csv(\"../data/interactions.csv\") \n",
    "print(interactions[:4])"
   ]
  },
  {
   "cell_type": "code",
   "execution_count": 19,
   "id": "07a6ff7f",
   "metadata": {},
   "outputs": [],
   "source": [
    "# build dictionaires\n",
    "user2idx   = {raw_uid: idx for idx, raw_uid in enumerate(interactions['user_id'].unique())}\n",
    "video2idx  = {raw_vid: idx for idx, raw_vid in enumerate(interactions['video_id'].unique())}\n",
    "\n",
    "all_video_ids = np.arange(len(video2idx))  # <-- fix\n"
   ]
  },
  {
   "cell_type": "code",
   "execution_count": 20,
   "id": "6dfcce90",
   "metadata": {},
   "outputs": [],
   "source": [
    "triplets = []\n",
    "for user, g in interactions.groupby('user_id'):\n",
    "    liked = g['video_id'].unique()\n",
    "    for pos in liked:\n",
    "        # pick a random video this user did NOT like\n",
    "        neg = np.random.choice(np.setdiff1d(all_video_ids, liked))\n",
    "        triplets.append((user2idx[user], video2idx[pos], video2idx[neg]))"
   ]
  },
  {
   "cell_type": "code",
   "execution_count": 21,
   "id": "b6f395e2",
   "metadata": {},
   "outputs": [],
   "source": [
    "pd.DataFrame(triplets, columns=[\"user_idx\", \"pos_video_idx\", \"neg_video_idx\"]).to_csv(\"triplets.csv\", index=False)"
   ]
  }
 ],
 "metadata": {
  "kernelspec": {
   "display_name": ".venv",
   "language": "python",
   "name": "python3"
  },
  "language_info": {
   "codemirror_mode": {
    "name": "ipython",
    "version": 3
   },
   "file_extension": ".py",
   "mimetype": "text/x-python",
   "name": "python",
   "nbconvert_exporter": "python",
   "pygments_lexer": "ipython3",
   "version": "3.12.10"
  }
 },
 "nbformat": 4,
 "nbformat_minor": 5
}
